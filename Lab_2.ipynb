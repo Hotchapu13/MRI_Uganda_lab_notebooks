{
  "cells": [
    {
      "cell_type": "markdown",
      "metadata": {
        "id": "view-in-github",
        "colab_type": "text"
      },
      "source": [
        "<a href=\"https://colab.research.google.com/github/Hotchapu13/MRI_Uganda_lab_notebooks/blob/main/Lab_2.ipynb\" target=\"_parent\"><img src=\"https://colab.research.google.com/assets/colab-badge.svg\" alt=\"Open In Colab\"/></a>"
      ]
    },
    {
      "cell_type": "markdown",
      "metadata": {
        "id": "MiKvRj5u076V"
      },
      "source": [
        "# **T2 Spin echo including Gradients**\n",
        "Welcome to lab three where you shall explore some algorithms used to write MRI pulse sequences in Python.\n",
        "\n",
        "This example illustrates the 2D multi-slice, Spin Echo (SE) https://mriquestions.com/se-vs-multi-se-vs-fse.html acquisition using the `pypulseq` library. This sequence is typically used for T<sub>2</sub> weighted imaging. A 2D Fourier transform can be used to reconstruct images from this acquisition. Read more about SE [here](http://mriquestions.com/se-vs-multi-se-vs-fse.html).\n",
        "\n",
        "This notebook was expanded from the original: [You check it out here](https://github.com/imr-framework/pypulseq/blob/master/examples/notebooks/write_t2_se.ipynb)\n",
        "---\n",
        "\n",
        "\n",
        "**Objective:**  \n",
        "\n",
        "To try to generate such a PSD (Pulse Sequence Diagram)\n",
        "\n",
        "<p align=\"center\">\n",
        "  <img src=\"https://radiologykey.com/wp-content/uploads/2016/01/c00016_f016-003-9780323073547.jpg\" alt=\"Spin Echo Pulse sequence diagram\">\n",
        "</p>\n",
        "\n",
        "<p align=\"center\" style=\"color: teal;\">\n",
        "  <i>Picture gotten from the page: <a href=\"https://radiologykey.com/spin-echo-imaging/\" target=\"_blank\" style=\"color: teal;\">https://radiologykey.com/spin-echo-imaging/</a></i>\n",
        "</p>\n",
        "\n",
        "\n",
        "---\n",
        "**Gradients reading material:** http://xrayphysics.com/spatial.html#gradients"
      ]
    },
    {
      "cell_type": "markdown",
      "metadata": {
        "id": "Y98YDJr215fa"
      },
      "source": [
        "## **INSTALL** `pypulseq`\n",
        "\n",
        "PyPulseq is a vendor-neutral pulse sequence design tool for MRI, written in Python. It empowers researchers, students, and engineers to design sequences without being locked into proprietary vendor environments.\n",
        "\n",
        "We won't dive deep into how it works but I just want you to get a feel of what goes on the algorithms we use for writing pulse sequences."
      ]
    },
    {
      "cell_type": "code",
      "execution_count": null,
      "metadata": {
        "id": "ogKNAZH3TmgA"
      },
      "outputs": [],
      "source": [
        "!pip install git+https://github.com/imr-framework/pypulseq.git"
      ]
    },
    {
      "cell_type": "markdown",
      "metadata": {
        "id": "UgqzEwle2xCd"
      },
      "source": [
        "## **IMPORT PACKAGES**"
      ]
    },
    {
      "cell_type": "code",
      "execution_count": null,
      "metadata": {
        "id": "3X7UsV832B6j"
      },
      "outputs": [],
      "source": [
        "from math import pi\n",
        "\n",
        "import numpy as np\n",
        "\n",
        "from pypulseq.calc_duration import calc_duration\n",
        "from pypulseq.make_adc import make_adc\n",
        "from pypulseq.make_delay import make_delay\n",
        "from pypulseq.make_sinc_pulse import make_sinc_pulse\n",
        "from pypulseq.make_trapezoid import make_trapezoid\n",
        "from pypulseq.opts import Opts\n",
        "from pypulseq.Sequence.sequence import Sequence"
      ]
    },
    {
      "cell_type": "markdown",
      "metadata": {
        "id": "UQ4AWw9l4et_"
      },
      "source": [
        "## **USER INPUTS**\n",
        "\n",
        "These parameters are typically on the user interface of the scanner computer console"
      ]
    },
    {
      "cell_type": "code",
      "execution_count": null,
      "metadata": {
        "id": "ssnNwiQH4q_0"
      },
      "outputs": [],
      "source": [
        "n_avg = 1  # Number of averages\n",
        "n_slices = 1  # Number of slices\n",
        "n_x = 128\n",
        "n_y = 128\n",
        "fov = 220e-3  # mm\n",
        "slice_thickness = 5e-3  # s\n",
        "slice_gap = 15e-3  # s\n",
        "rf_flip = 90  # degrees\n",
        "rf_offset = 0\n",
        "print('User inputs setup')"
      ]
    },
    {
      "cell_type": "markdown",
      "metadata": {
        "id": "PeYeI0V45ZfD"
      },
      "source": [
        "## **SYSTEM LIMITS**\n",
        "Set the hardware limits and initialize sequence object"
      ]
    },
    {
      "cell_type": "code",
      "execution_count": null,
      "metadata": {
        "id": "XHs1LT965kqg"
      },
      "outputs": [],
      "source": [
        "system = Opts(\n",
        "    max_grad=32,\n",
        "    grad_unit='mT/m',\n",
        "    max_slew=130,\n",
        "    slew_unit='T/m/s',\n",
        "    grad_raster_time=10e-6,\n",
        "    rf_ringdown_time=10e-6,\n",
        "    rf_dead_time=100e-6,\n",
        ")\n",
        "seq = Sequence(system)"
      ]
    },
    {
      "cell_type": "markdown",
      "metadata": {
        "id": "ee-xBrpa7Zyn"
      },
      "source": [
        "## **TIME CONSTANTS**"
      ]
    },
    {
      "cell_type": "code",
      "execution_count": null,
      "metadata": {
        "id": "u2dW2nRf7obq"
      },
      "outputs": [],
      "source": [
        "te = 100e-3  # s echo time\n",
        "tr = 3  # s repetition time\n",
        "tau = te / 2  # s time to 180 degree pulse\n",
        "readout_time = 6.4e-3 #\n",
        "pre_time = 8e-4  # s"
      ]
    },
    {
      "cell_type": "markdown",
      "metadata": {
        "id": "OTw7M03g79bH"
      },
      "source": [
        "### **RF Section**\n",
        "In this section we shall look at both the RF and gradients. I have included more complex concepts but good thing you have enough time with this notebook to figure out and master what is going on.\n",
        "\n",
        "<p align=\"center\">\n",
        "  <img src=\"https://64.media.tumblr.com/19c82c642910b0360dc06a0428d93407/tumblr_ppcak68FWd1tctq75o1_540.gif\" alt=\"Avengers big three\">\n",
        "</p>"
      ]
    },
    {
      "cell_type": "code",
      "execution_count": null,
      "metadata": {
        "id": "XDZyQrbL8I3Q"
      },
      "outputs": [],
      "source": [
        "flip90 = round(rf_flip * pi / 180, 3)\n",
        "flip180 = 180 * pi / 180\n",
        "\n",
        "# Creating the 90-degree pulse\n",
        "rf90, gz90, _ = make_sinc_pulse(\n",
        "    flip_angle=flip90,\n",
        "    system=system,\n",
        "    duration=4e-3,\n",
        "    slice_thickness=slice_thickness,\n",
        "    apodization=0.5,\n",
        "    time_bw_product=4,\n",
        "    return_gz=True,\n",
        "    delay=system.rf_dead_time,\n",
        "    use='excitation',\n",
        ")\n",
        "\n",
        "# Creating the 180-degree pulse for the echo\n",
        "rf180, gz180, _ = make_sinc_pulse(\n",
        "    flip_angle=flip180,\n",
        "    system=system,\n",
        "    duration=2.5e-3,\n",
        "    slice_thickness=slice_thickness,\n",
        "    apodization=0.5,\n",
        "    time_bw_product=4,\n",
        "    phase_offset=90 * pi / 180,\n",
        "    return_gz=True,\n",
        "    delay=system.rf_dead_time,\n",
        "    use='refocusing',\n",
        ")"
      ]
    },
    {
      "cell_type": "markdown",
      "metadata": {
        "id": "RFSHuUOG9LHK"
      },
      "source": [
        "### **READOUT**\n",
        "Readout gradients and related events"
      ]
    },
    {
      "cell_type": "code",
      "execution_count": null,
      "metadata": {
        "id": "Q8p-CttI9dk9"
      },
      "outputs": [],
      "source": [
        "delta_k = 1 / fov\n",
        "k_width = n_x * delta_k\n",
        "gx = make_trapezoid(channel='x', system=system, flat_area=k_width, flat_time=readout_time)\n",
        "adc = make_adc(num_samples=n_x, duration=gx.flat_time, delay=gx.rise_time, system=system)"
      ]
    },
    {
      "cell_type": "markdown",
      "metadata": {
        "id": "o829kzm8kVFB"
      },
      "source": [
        "### **PREPHASE AND REPHASE**"
      ]
    },
    {
      "cell_type": "code",
      "execution_count": null,
      "metadata": {
        "id": "m5zA1bMakTVs"
      },
      "outputs": [],
      "source": [
        "phase_areas = (np.arange(n_y) - (n_y / 2)) * delta_k\n",
        "gz_reph = make_trapezoid(channel='z', system=system, area=-gz90.area / 2, duration=2.5e-3)\n",
        "gx_pre = make_trapezoid(channel='x', system=system, flat_area=k_width / 2, flat_time=readout_time / 2)\n",
        "gy_pre = make_trapezoid(channel='y', system=system, area=phase_areas[-1], duration=2e-3)"
      ]
    },
    {
      "cell_type": "markdown",
      "metadata": {
        "id": "5Css5esAkYHo"
      },
      "source": [
        "### **SPOILER**"
      ]
    },
    {
      "cell_type": "code",
      "execution_count": null,
      "metadata": {
        "id": "R1DOmoKKkawr"
      },
      "outputs": [],
      "source": [
        "gz_spoil = make_trapezoid(channel='z', system=system, area=gz90.area * 4, duration=pre_time * 4)"
      ]
    },
    {
      "cell_type": "markdown",
      "metadata": {
        "id": "3F5JUpE9-4lo"
      },
      "source": [
        "### **DELAYS**\n",
        "Echo time (TE) and repetition time (TR). Here, TE is broken down into `delay1` and `delay2`."
      ]
    },
    {
      "cell_type": "code",
      "execution_count": null,
      "metadata": {
        "id": "aOKRJclb_mDQ"
      },
      "outputs": [],
      "source": [
        "delay1 = tau - calc_duration(rf90) / 2 - calc_duration(gx_pre)\n",
        "delay1 -= calc_duration(gz_spoil) - calc_duration(rf180) / 2\n",
        "delay1 = make_delay(delay1)\n",
        "delay2 = tau - calc_duration(rf180) / 2 - calc_duration(gz_spoil)\n",
        "delay2 -= calc_duration(gx) / 2\n",
        "delay2 = make_delay(delay2)\n",
        "delay_tr = tr - calc_duration(rf90) / 2 - calc_duration(gx) / 2 - te\n",
        "delay_tr -= calc_duration(gy_pre)\n",
        "delay_tr = make_delay(delay_tr)\n",
        "print(f'delay_1: {delay1.delay * 1000} ms')\n",
        "print(f'delay_2: {delay1.delay * 1000} ms')\n",
        "print(f'delay_tr: {delay_tr.delay} s')"
      ]
    },
    {
      "cell_type": "markdown",
      "metadata": {
        "id": "6Dq4wT-UAEOR"
      },
      "source": [
        "### **CONSTRUCT SEQUENCE**\n",
        "Construct sequence for one phase encode and multiple slices"
      ]
    },
    {
      "cell_type": "code",
      "execution_count": null,
      "metadata": {
        "id": "B8ZmVkkrAXnK"
      },
      "outputs": [],
      "source": [
        "# Prepare RF offsets. This is required for multi-slice acquisition\n",
        "delta_z = n_slices * slice_gap\n",
        "z = np.linspace((-delta_z / 2), (delta_z / 2), n_slices) + rf_offset\n",
        "\n",
        "for _k in range(n_avg):  # Averages\n",
        "    for j in range(n_slices):  # Slices\n",
        "        # Apply RF offsets\n",
        "        freq_offset = gz90.amplitude * z[j]\n",
        "        rf90.freq_offset = freq_offset\n",
        "\n",
        "        freq_offset = gz180.amplitude * z[j]\n",
        "        rf180.freq_offset = freq_offset\n",
        "\n",
        "        for i in range(n_y):  # Phase encodes\n",
        "            seq.add_block(rf90, gz90)\n",
        "            gy_pre = make_trapezoid(channel='y', system=system, area=phase_areas[-i - 1], duration=2e-3)\n",
        "            seq.add_block(gx_pre, gy_pre, gz_reph)\n",
        "            seq.add_block(delay1)\n",
        "            seq.add_block(gz_spoil)\n",
        "            seq.add_block(rf180, gz180)\n",
        "            seq.add_block(gz_spoil)\n",
        "            seq.add_block(delay2)\n",
        "            seq.add_block(gx, adc)\n",
        "            gy_pre = make_trapezoid(channel='y', system=system, area=-phase_areas[-j - 1], duration=2e-3)\n",
        "            seq.add_block(gy_pre, gz_spoil)\n",
        "            seq.add_block(delay_tr)"
      ]
    },
    {
      "cell_type": "code",
      "metadata": {
        "id": "42f32699"
      },
      "source": [
        "_k = 0  # Single average\n",
        "j = 0  # Single slice (first one)\n",
        "i = 0  # Single phase encode step (first one)\n",
        "\n",
        "# Apply RF offsets for the single selected slice\n",
        "freq_offset_90 = gz90.amplitude * z[j]\n",
        "rf90.freq_offset = freq_offset_90\n",
        "\n",
        "freq_offset_180 = gz180.amplitude * z[j]\n",
        "rf180.freq_offset = freq_offset_180\n",
        "\n",
        "# Construct the sequence for a single spin echo\n",
        "seq = Sequence(system) # Re-initialize sequence object for clarity\n",
        "\n",
        "# 90-degree pulse and slice select gradient\n",
        "seq.add_block(rf90, gz90)\n",
        "\n",
        "# Pre-phase gradients (adjusting gy_pre for the first phase encode step)\n",
        "gy_pre_single = make_trapezoid(channel='y', system=system, area=phase_areas[-i - 1], duration=2e-3)\n",
        "seq.add_block(gx_pre, gy_pre_single, gz_reph)\n",
        "\n",
        "# Delay before 180 pulse\n",
        "seq.add_block(delay1)\n",
        "\n",
        "# Spoiler gradient\n",
        "seq.add_block(gz_spoil)\n",
        "\n",
        "# 180-degree pulse and slice select gradient\n",
        "seq.add_block(rf180, gz180)\n",
        "\n",
        "# Spoiler gradient after 180 pulse\n",
        "seq.add_block(gz_spoil)\n",
        "\n",
        "# Delay before readout\n",
        "seq.add_block(delay2)\n",
        "\n",
        "# Readout gradient and ADC\n",
        "seq.add_block(gx, adc)\n",
        "\n",
        "# Re-phase gradient after readout (adjusting gy_pre for the first phase encode step)\n",
        "gy_post_single = make_trapezoid(channel='y', system=system, area=-phase_areas[-i - 1], duration=2e-3)\n",
        "seq.add_block(gy_post_single, gz_spoil) # Adding spoiler after rephase\n",
        "\n",
        "# TR delay\n",
        "seq.add_block(delay_tr)\n",
        "\n",
        "print('Sequence construction for a single spin echo completed.')"
      ],
      "execution_count": null,
      "outputs": []
    },
    {
      "cell_type": "code",
      "metadata": {
        "id": "e4cc47f7"
      },
      "source": [
        "print(f'Current TE: {te} s')\n",
        "print(f'Current TR: {tr} s')\n",
        "\n",
        "# Calculate expected timings based on current delays and pulse durations\n",
        "te_calc = calc_duration(rf90) + calc_duration(gx_pre) + delay1.delay + calc_duration(gz_spoil) + calc_duration(rf180) + calc_duration(gz_spoil) + delay2.delay + calc_duration(gx)/2\n",
        "\n",
        "print(f'Calculated TE based on block durations: {te_calc} s')\n",
        "\n",
        "tr_calc = te + calc_duration(gx)/2 + calc_duration(gy_post_single) + calc_duration(gz_spoil) + delay_tr.delay\n",
        "print(f'Calculated TR based on block durations: {tr_calc} s')"
      ],
      "execution_count": null,
      "outputs": []
    },
    {
      "cell_type": "markdown",
      "metadata": {
        "id": "786b6786"
      },
      "source": [
        "**The calculated TE is slightly off from the desired TE. Adjust TE and TR if necessary and re-calculate the delays to ensure the key events align with TE and TR.**\n",
        "\n"
      ]
    },
    {
      "cell_type": "code",
      "metadata": {
        "id": "9143ff20"
      },
      "source": [
        "\"\"\"\n",
        "Adjust TE and TR if needed. The current calculated values are close to the desired ones,but we will recalculate delays to ensure accuracy.\n",
        "No adjustment needed for TE and TR as the calculated values are very close to the target values.\n",
        "\n",
        "Re-calculate delays based on the desired TE and TR and the duration of the sequence blocks.\n",
        "TE = duration(rf90)/2 + duration(gx_pre) + delay1 + duration(gz_spoil) + duration(rf180)/2 + duration(rf180)/2 + duration(gz_spoil) + delay2 + duration(gx)/2\n",
        "TE/2 = duration(rf90)/2 + duration(gx_pre) + delay1 + duration(gz_spoil) + duration(rf180)/2\n",
        "\"\"\"\n",
        "\n",
        "delay1 = te/2 - calc_duration(rf90)/2 - calc_duration(gx_pre) - calc_duration(gz_spoil) - calc_duration(rf180)/2\n",
        "delay1 = make_delay(delay1)\n",
        "\n",
        "# TE = TE/2 + duration(rf180)/2 + duration(gz_spoil) + delay2 + duration(gx)/2\n",
        "delay2 = te/2 - calc_duration(rf180)/2 - calc_duration(gz_spoil) - calc_duration(gx)/2\n",
        "delay2 = make_delay(delay2)\n",
        "\n",
        "\"\"\"\n",
        "TR = duration(rf90)/2 + duration(gx_pre) + delay1 + duration(gz_spoil) + duration(rf180) + duration(gz_spoil) + delay2 + duration(gx)/2 + duration(gy_post_single) + duration(gz_spoil) + delay_tr + duration(rf90)/2 (for the next TR)\n",
        "TR = TE + duration(gx)/2 + duration(gy_post_single) + duration(gz_spoil) + delay_tr\n",
        "\"\"\"\n",
        "delay_tr = tr - te - calc_duration(gx)/2 - calc_duration(gy_post_single) - calc_duration(gz_spoil)\n",
        "delay_tr = make_delay(delay_tr)\n",
        "\n",
        "\n",
        "print(f'delay_1: {delay1.delay * 1000} ms')\n",
        "print(f'delay_2: {delay2.delay * 1000} ms')\n",
        "print(f'delay_tr: {delay_tr.delay} s')\n",
        "\n",
        "# Reconstruct the sequence with potentially adjusted delays\n",
        "seq = Sequence(system) # Re-initialize sequence object\n",
        "\n",
        "# 90-degree pulse and slice select gradient\n",
        "seq.add_block(rf90, gz90)\n",
        "\n",
        "\"\"\"\n",
        "Pre-phase gradients (adjusting gy_pre for the first phase encode step)\n",
        "gy_pre_single was already defined in the previous step, no need to redefine if i=0 is fixed.\n",
        "\"\"\"\n",
        "seq.add_block(gx_pre, gy_pre_single, gz_reph)\n",
        "\n",
        "# Delay before 180 pulse\n",
        "seq.add_block(delay1)\n",
        "\n",
        "# Spoiler gradient\n",
        "seq.add_block(gz_spoil)\n",
        "\n",
        "# 180-degree pulse and slice select gradient\n",
        "seq.add_block(rf180, gz180)\n",
        "\n",
        "# Spoiler gradient after 180 pulse\n",
        "seq.add_block(gz_spoil)\n",
        "\n",
        "# Delay before readout\n",
        "seq.add_block(delay2)\n",
        "\n",
        "# Readout gradient and ADC\n",
        "seq.add_block(gx, adc)\n",
        "\n",
        "seq.add_block(gy_post_single, gz_spoil) # Adding spoiler after rephase\n",
        "\n",
        "# TR delay\n",
        "seq.add_block(delay_tr)\n",
        "\n",
        "print('Sequence reconstructed with potentially adjusted delays.')"
      ],
      "execution_count": null,
      "outputs": []
    },
    {
      "cell_type": "markdown",
      "metadata": {
        "id": "259721b2"
      },
      "source": [
        "### Visualize key events\n",
        "\n",
        "Visualize the key events of the spin echo sequence, highlighting the timing of the 90-degree pulse, the 180-degree pulse, and the ADC window.\n"
      ]
    },
    {
      "cell_type": "code",
      "metadata": {
        "id": "bc1ddd84"
      },
      "source": [
        "seq.plot(time_range=(0, te + calc_duration(gx) + calc_duration(gy_post_single) + calc_duration(gz_spoil) + 0.01))"
      ],
      "execution_count": null,
      "outputs": []
    },
    {
      "cell_type": "code",
      "source": [],
      "metadata": {
        "id": "13_a10Dsgf3L"
      },
      "execution_count": null,
      "outputs": []
    },
    {
      "cell_type": "code",
      "source": [],
      "metadata": {
        "id": "AtE7c0yfggQr"
      },
      "execution_count": null,
      "outputs": []
    },
    {
      "cell_type": "markdown",
      "source": [
        "## Assignments"
      ],
      "metadata": {
        "id": "ixx8YdOhGzvK"
      }
    },
    {
      "cell_type": "markdown",
      "metadata": {
        "id": "3758b62b"
      },
      "source": [
        "### Assignment 1\n",
        "### Calculate Slice-Selection Gradient Amplitude\n",
        "\n",
        "Based on the provided information, we can calculate the amplitude of the slice-selection gradient using the formula: **BW=γ⋅G⋅Δz**  \n",
        "\n",
        "Hence:  \n",
        "Gradient Amplitude (**G**) = Bandwidth(**BW**) / (Gamma(**γ**) * Slice Thickness(**Δz**))\n",
        "\n",
        "Where:\n",
        "- Bandwidth (BW) = 1000 Hz (1 kHz)\n",
        "- Slice Thickness = 5 mm = 0.005 m\n",
        "- Gamma (Gyromagnetic Ratio for Hydrogen) ≈ 42.57 MHz/T ≈ 42.57 * 10e6 Hz/T\n",
        "\n",
        "The fundamental relationship between bandwidth, gradient, and slice thickness:   \n",
        "\n",
        "---\n",
        "**Expected Ans:** *4.70 mT/m*\n"
      ]
    },
    {
      "cell_type": "code",
      "metadata": {
        "id": "444c3840"
      },
      "source": [
        "# Constants\n",
        "gamma = 42.57e6  # Gyromagnetic ratio for Hydrogen in Hz/T\n",
        "bandwidth = 1000  # Bandwidth in Hz\n",
        "slice_thickness = 0.005  # Slice thickness in meters\n",
        "\n",
        "# Complete the calculation\n",
        "gradient_amplitude = bandwidth/(gamma * slice_thickness)\n",
        "\n",
        "print(f\"The Gradient Amplitude (G): {gradient_amplitude * 1000:.2f}\")"
      ],
      "execution_count": null,
      "outputs": []
    },
    {
      "cell_type": "markdown",
      "metadata": {
        "id": "3cda53b2"
      },
      "source": [
        "### Assignment 2\n",
        "### What is the minimum achievable slice thickness given a minimum RF BW = 426 Hz and a maximum gradient Gz = 10 mT/m?\n",
        "\n",
        "Based on the provided information, we can calculate the minimum achievable slice thickness using the rearranged formula from before:\n",
        "\n",
        "Slice Thickness(**Δz**) = Bandwidth(**BW**) / (Gamma(**γ**) * Gradient Amplitude (**G**))\n",
        "\n",
        "\n",
        "Where:\n",
        "- Bandwidth (BW) = 426 Hz\n",
        "- Gradient Amplitude (Gz) = 10 mT/m = 0.01 T/m\n",
        "- Gamma (Gyromagnetic Ratio for Hydrogen) ≈ 42.57 MHz/T ≈ 42.57 * 10e6 Hz/T\n",
        "\n",
        "---\n",
        "\n",
        "**Ans:** *1.00 mm*"
      ]
    },
    {
      "cell_type": "code",
      "metadata": {
        "id": "cd12a6e6"
      },
      "source": [],
      "execution_count": null,
      "outputs": []
    },
    {
      "cell_type": "markdown",
      "source": [
        "### Assignment 3\n",
        "\n",
        "Read: http://xrayphysics.com/sequences.html only upto Spin Echo, the concepts below are still beyond our current scope of coverage but we shall cover them in the nearby future."
      ],
      "metadata": {
        "id": "X8CCt6zT7I39"
      }
    },
    {
      "cell_type": "code",
      "source": [],
      "metadata": {
        "id": "o2HrtT2m7kLo"
      },
      "execution_count": null,
      "outputs": []
    },
    {
      "cell_type": "code",
      "source": [],
      "metadata": {
        "id": "Wzp198t-LYBA"
      },
      "execution_count": null,
      "outputs": []
    },
    {
      "cell_type": "code",
      "source": [],
      "metadata": {
        "id": "gOJthnjALZVQ"
      },
      "execution_count": null,
      "outputs": []
    },
    {
      "cell_type": "markdown",
      "source": [
        "## Conclusion\n",
        "\n",
        "In this lab, we explored the fundamental concepts behind writing MRI pulse sequences using the `pypulseq` library. We focused on the 2D multi-slice Spin Echo (SE) sequence, a common technique for T2-weighted imaging. Through this exercise, we gained insight into how algorithms are used to design sequences and the role of different components like RF pulses, gradients, and timing parameters (TE and TR). We also practiced calculating key parameters such as slice-selection gradient amplitude and minimum achievable slice thickness based on system limitations. This hands-on experience provides a foundation for understanding more complex MRI pulse sequences and their implementation.\n",
        "\n",
        "I know this was heavy but tough times create tough men so use this time to relax and get ready for signal processing.\n",
        "\n",
        "<p align=\"center\">\n",
        "  <img src=\"https://www.masala.com/cloud/2023/08/04/images-17.jpeg\" alt=\"Oppennheimer\">\n",
        "</p>"
      ],
      "metadata": {
        "id": "_aXRlqkwNtPU"
      }
    },
    {
      "cell_type": "markdown",
      "metadata": {
        "id": "6dc7f4f7"
      },
      "source": [
        "## 📖 References\n",
        "\n",
        "*   Ravi, Keerthi, Sairam Geethanath, and John Vaughan. \"PyPulseq: A Python Package for MRI Pulse Sequence Design.\" *Journal of Open Source Software* 4.42 (2019): 1725.\n",
        "*   Ravi, Keerthi Sravan, et al. \"Pulseq-Graphical Programming Interface: Open source visual environment for prototyping pulse sequences and integrated magnetic resonance imaging algorithm development.\" *Magnetic resonance imaging* 52 (2018): 9-15.\n",
        "*   Layton, Kelvin J., et al. \"Pulseq: a rapid and hardware‐independent pulse sequence prototyping framework.\" *Magnetic resonance in medicine* 77.4 (2017): 1544-1552."
      ]
    }
  ],
  "metadata": {
    "colab": {
      "private_outputs": true,
      "provenance": [],
      "include_colab_link": true
    },
    "kernelspec": {
      "display_name": "Python 3",
      "language": "python",
      "name": "python3"
    },
    "language_info": {
      "codemirror_mode": {
        "name": "ipython",
        "version": 3
      },
      "file_extension": ".py",
      "mimetype": "text/x-python",
      "name": "python",
      "nbconvert_exporter": "python",
      "pygments_lexer": "ipython3",
      "version": "3.6.3"
    }
  },
  "nbformat": 4,
  "nbformat_minor": 0
}