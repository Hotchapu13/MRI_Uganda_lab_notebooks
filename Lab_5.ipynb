{
  "nbformat": 4,
  "nbformat_minor": 0,
  "metadata": {
    "colab": {
      "provenance": [],
      "gpuType": "T4",
      "include_colab_link": true
    },
    "kernelspec": {
      "name": "python3",
      "display_name": "Python 3"
    },
    "language_info": {
      "name": "python"
    },
    "accelerator": "GPU"
  },
  "cells": [
    {
      "cell_type": "markdown",
      "metadata": {
        "id": "view-in-github",
        "colab_type": "text"
      },
      "source": [
        "<a href=\"https://colab.research.google.com/github/Hotchapu13/MRI_Uganda_lab_notebooks/blob/main/Lab_5.ipynb\" target=\"_parent\"><img src=\"https://colab.research.google.com/assets/colab-badge.svg\" alt=\"Open In Colab\"/></a>"
      ]
    },
    {
      "cell_type": "markdown",
      "source": [
        "# Lab 5: Deep learning in Pytorch\n",
        "An introductory lab to CNN implementation using Pytorch\n",
        "\n",
        "**Author:** Leo Kinyera  \n",
        "**Date:** 2nd July, 2025  \n",
        "**Company:** MRI-Uganda  \n",
        "**Session:** Internship  "
      ],
      "metadata": {
        "id": "iFQDwoWCwsnO"
      }
    },
    {
      "cell_type": "markdown",
      "source": [
        "## Install necessary dependancies"
      ],
      "metadata": {
        "id": "zU6UDpgJ3PqU"
      }
    },
    {
      "cell_type": "code",
      "metadata": {
        "colab": {
          "base_uri": "https://localhost:8080/"
        },
        "id": "a27c7e46",
        "outputId": "2cbade9d-3ad8-40f0-fb93-701e6648b09f"
      },
      "source": [
        "%pip install torchmetrics"
      ],
      "execution_count": 1,
      "outputs": [
        {
          "output_type": "stream",
          "name": "stdout",
          "text": [
            "Collecting torchmetrics\n",
            "  Downloading torchmetrics-1.7.3-py3-none-any.whl.metadata (21 kB)\n",
            "Requirement already satisfied: numpy>1.20.0 in /usr/local/lib/python3.11/dist-packages (from torchmetrics) (2.0.2)\n",
            "Requirement already satisfied: packaging>17.1 in /usr/local/lib/python3.11/dist-packages (from torchmetrics) (24.2)\n",
            "Requirement already satisfied: torch>=2.0.0 in /usr/local/lib/python3.11/dist-packages (from torchmetrics) (2.6.0+cu124)\n",
            "Collecting lightning-utilities>=0.8.0 (from torchmetrics)\n",
            "  Downloading lightning_utilities-0.14.3-py3-none-any.whl.metadata (5.6 kB)\n",
            "Requirement already satisfied: setuptools in /usr/local/lib/python3.11/dist-packages (from lightning-utilities>=0.8.0->torchmetrics) (75.2.0)\n",
            "Requirement already satisfied: typing_extensions in /usr/local/lib/python3.11/dist-packages (from lightning-utilities>=0.8.0->torchmetrics) (4.14.0)\n",
            "Requirement already satisfied: filelock in /usr/local/lib/python3.11/dist-packages (from torch>=2.0.0->torchmetrics) (3.18.0)\n",
            "Requirement already satisfied: networkx in /usr/local/lib/python3.11/dist-packages (from torch>=2.0.0->torchmetrics) (3.5)\n",
            "Requirement already satisfied: jinja2 in /usr/local/lib/python3.11/dist-packages (from torch>=2.0.0->torchmetrics) (3.1.6)\n",
            "Requirement already satisfied: fsspec in /usr/local/lib/python3.11/dist-packages (from torch>=2.0.0->torchmetrics) (2025.3.2)\n",
            "Collecting nvidia-cuda-nvrtc-cu12==12.4.127 (from torch>=2.0.0->torchmetrics)\n",
            "  Downloading nvidia_cuda_nvrtc_cu12-12.4.127-py3-none-manylinux2014_x86_64.whl.metadata (1.5 kB)\n",
            "Collecting nvidia-cuda-runtime-cu12==12.4.127 (from torch>=2.0.0->torchmetrics)\n",
            "  Downloading nvidia_cuda_runtime_cu12-12.4.127-py3-none-manylinux2014_x86_64.whl.metadata (1.5 kB)\n",
            "Collecting nvidia-cuda-cupti-cu12==12.4.127 (from torch>=2.0.0->torchmetrics)\n",
            "  Downloading nvidia_cuda_cupti_cu12-12.4.127-py3-none-manylinux2014_x86_64.whl.metadata (1.6 kB)\n",
            "Collecting nvidia-cudnn-cu12==9.1.0.70 (from torch>=2.0.0->torchmetrics)\n",
            "  Downloading nvidia_cudnn_cu12-9.1.0.70-py3-none-manylinux2014_x86_64.whl.metadata (1.6 kB)\n",
            "Collecting nvidia-cublas-cu12==12.4.5.8 (from torch>=2.0.0->torchmetrics)\n",
            "  Downloading nvidia_cublas_cu12-12.4.5.8-py3-none-manylinux2014_x86_64.whl.metadata (1.5 kB)\n",
            "Collecting nvidia-cufft-cu12==11.2.1.3 (from torch>=2.0.0->torchmetrics)\n",
            "  Downloading nvidia_cufft_cu12-11.2.1.3-py3-none-manylinux2014_x86_64.whl.metadata (1.5 kB)\n",
            "Collecting nvidia-curand-cu12==10.3.5.147 (from torch>=2.0.0->torchmetrics)\n",
            "  Downloading nvidia_curand_cu12-10.3.5.147-py3-none-manylinux2014_x86_64.whl.metadata (1.5 kB)\n",
            "Collecting nvidia-cusolver-cu12==11.6.1.9 (from torch>=2.0.0->torchmetrics)\n",
            "  Downloading nvidia_cusolver_cu12-11.6.1.9-py3-none-manylinux2014_x86_64.whl.metadata (1.6 kB)\n",
            "Collecting nvidia-cusparse-cu12==12.3.1.170 (from torch>=2.0.0->torchmetrics)\n",
            "  Downloading nvidia_cusparse_cu12-12.3.1.170-py3-none-manylinux2014_x86_64.whl.metadata (1.6 kB)\n",
            "Requirement already satisfied: nvidia-cusparselt-cu12==0.6.2 in /usr/local/lib/python3.11/dist-packages (from torch>=2.0.0->torchmetrics) (0.6.2)\n",
            "Requirement already satisfied: nvidia-nccl-cu12==2.21.5 in /usr/local/lib/python3.11/dist-packages (from torch>=2.0.0->torchmetrics) (2.21.5)\n",
            "Requirement already satisfied: nvidia-nvtx-cu12==12.4.127 in /usr/local/lib/python3.11/dist-packages (from torch>=2.0.0->torchmetrics) (12.4.127)\n",
            "Collecting nvidia-nvjitlink-cu12==12.4.127 (from torch>=2.0.0->torchmetrics)\n",
            "  Downloading nvidia_nvjitlink_cu12-12.4.127-py3-none-manylinux2014_x86_64.whl.metadata (1.5 kB)\n",
            "Requirement already satisfied: triton==3.2.0 in /usr/local/lib/python3.11/dist-packages (from torch>=2.0.0->torchmetrics) (3.2.0)\n",
            "Requirement already satisfied: sympy==1.13.1 in /usr/local/lib/python3.11/dist-packages (from torch>=2.0.0->torchmetrics) (1.13.1)\n",
            "Requirement already satisfied: mpmath<1.4,>=1.1.0 in /usr/local/lib/python3.11/dist-packages (from sympy==1.13.1->torch>=2.0.0->torchmetrics) (1.3.0)\n",
            "Requirement already satisfied: MarkupSafe>=2.0 in /usr/local/lib/python3.11/dist-packages (from jinja2->torch>=2.0.0->torchmetrics) (3.0.2)\n",
            "Downloading torchmetrics-1.7.3-py3-none-any.whl (962 kB)\n",
            "\u001b[2K   \u001b[90m━━━━━━━━━━━━━━━━━━━━━━━━━━━━━━━━━━━━━━━━\u001b[0m \u001b[32m962.6/962.6 kB\u001b[0m \u001b[31m37.1 MB/s\u001b[0m eta \u001b[36m0:00:00\u001b[0m\n",
            "\u001b[?25hDownloading lightning_utilities-0.14.3-py3-none-any.whl (28 kB)\n",
            "Downloading nvidia_cublas_cu12-12.4.5.8-py3-none-manylinux2014_x86_64.whl (363.4 MB)\n",
            "\u001b[2K   \u001b[90m━━━━━━━━━━━━━━━━━━━━━━━━━━━━━━━━━━━━━━━━\u001b[0m \u001b[32m363.4/363.4 MB\u001b[0m \u001b[31m3.8 MB/s\u001b[0m eta \u001b[36m0:00:00\u001b[0m\n",
            "\u001b[?25hDownloading nvidia_cuda_cupti_cu12-12.4.127-py3-none-manylinux2014_x86_64.whl (13.8 MB)\n",
            "\u001b[2K   \u001b[90m━━━━━━━━━━━━━━━━━━━━━━━━━━━━━━━━━━━━━━━━\u001b[0m \u001b[32m13.8/13.8 MB\u001b[0m \u001b[31m67.4 MB/s\u001b[0m eta \u001b[36m0:00:00\u001b[0m\n",
            "\u001b[?25hDownloading nvidia_cuda_nvrtc_cu12-12.4.127-py3-none-manylinux2014_x86_64.whl (24.6 MB)\n",
            "\u001b[2K   \u001b[90m━━━━━━━━━━━━━━━━━━━━━━━━━━━━━━━━━━━━━━━━\u001b[0m \u001b[32m24.6/24.6 MB\u001b[0m \u001b[31m37.0 MB/s\u001b[0m eta \u001b[36m0:00:00\u001b[0m\n",
            "\u001b[?25hDownloading nvidia_cuda_runtime_cu12-12.4.127-py3-none-manylinux2014_x86_64.whl (883 kB)\n",
            "\u001b[2K   \u001b[90m━━━━━━━━━━━━━━━━━━━━━━━━━━━━━━━━━━━━━━━━\u001b[0m \u001b[32m883.7/883.7 kB\u001b[0m \u001b[31m47.4 MB/s\u001b[0m eta \u001b[36m0:00:00\u001b[0m\n",
            "\u001b[?25hDownloading nvidia_cudnn_cu12-9.1.0.70-py3-none-manylinux2014_x86_64.whl (664.8 MB)\n",
            "\u001b[2K   \u001b[90m━━━━━━━━━━━━━━━━━━━━━━━━━━━━━━━━━━━━━━━━\u001b[0m \u001b[32m664.8/664.8 MB\u001b[0m \u001b[31m1.3 MB/s\u001b[0m eta \u001b[36m0:00:00\u001b[0m\n",
            "\u001b[?25hDownloading nvidia_cufft_cu12-11.2.1.3-py3-none-manylinux2014_x86_64.whl (211.5 MB)\n",
            "\u001b[2K   \u001b[90m━━━━━━━━━━━━━━━━━━━━━━━━━━━━━━━━━━━━━━━━\u001b[0m \u001b[32m211.5/211.5 MB\u001b[0m \u001b[31m5.3 MB/s\u001b[0m eta \u001b[36m0:00:00\u001b[0m\n",
            "\u001b[?25hDownloading nvidia_curand_cu12-10.3.5.147-py3-none-manylinux2014_x86_64.whl (56.3 MB)\n",
            "\u001b[2K   \u001b[90m━━━━━━━━━━━━━━━━━━━━━━━━━━━━━━━━━━━━━━━━\u001b[0m \u001b[32m56.3/56.3 MB\u001b[0m \u001b[31m11.2 MB/s\u001b[0m eta \u001b[36m0:00:00\u001b[0m\n",
            "\u001b[?25hDownloading nvidia_cusolver_cu12-11.6.1.9-py3-none-manylinux2014_x86_64.whl (127.9 MB)\n",
            "\u001b[2K   \u001b[90m━━━━━━━━━━━━━━━━━━━━━━━━━━━━━━━━━━━━━━━━\u001b[0m \u001b[32m127.9/127.9 MB\u001b[0m \u001b[31m7.4 MB/s\u001b[0m eta \u001b[36m0:00:00\u001b[0m\n",
            "\u001b[?25hDownloading nvidia_cusparse_cu12-12.3.1.170-py3-none-manylinux2014_x86_64.whl (207.5 MB)\n",
            "\u001b[2K   \u001b[90m━━━━━━━━━━━━━━━━━━━━━━━━━━━━━━━━━━━━━━━━\u001b[0m \u001b[32m207.5/207.5 MB\u001b[0m \u001b[31m5.5 MB/s\u001b[0m eta \u001b[36m0:00:00\u001b[0m\n",
            "\u001b[?25hDownloading nvidia_nvjitlink_cu12-12.4.127-py3-none-manylinux2014_x86_64.whl (21.1 MB)\n",
            "\u001b[2K   \u001b[90m━━━━━━━━━━━━━━━━━━━━━━━━━━━━━━━━━━━━━━━━\u001b[0m \u001b[32m21.1/21.1 MB\u001b[0m \u001b[31m97.4 MB/s\u001b[0m eta \u001b[36m0:00:00\u001b[0m\n",
            "\u001b[?25hInstalling collected packages: nvidia-nvjitlink-cu12, nvidia-curand-cu12, nvidia-cufft-cu12, nvidia-cuda-runtime-cu12, nvidia-cuda-nvrtc-cu12, nvidia-cuda-cupti-cu12, nvidia-cublas-cu12, lightning-utilities, nvidia-cusparse-cu12, nvidia-cudnn-cu12, nvidia-cusolver-cu12, torchmetrics\n",
            "  Attempting uninstall: nvidia-nvjitlink-cu12\n",
            "    Found existing installation: nvidia-nvjitlink-cu12 12.5.82\n",
            "    Uninstalling nvidia-nvjitlink-cu12-12.5.82:\n",
            "      Successfully uninstalled nvidia-nvjitlink-cu12-12.5.82\n",
            "  Attempting uninstall: nvidia-curand-cu12\n",
            "    Found existing installation: nvidia-curand-cu12 10.3.6.82\n",
            "    Uninstalling nvidia-curand-cu12-10.3.6.82:\n",
            "      Successfully uninstalled nvidia-curand-cu12-10.3.6.82\n",
            "  Attempting uninstall: nvidia-cufft-cu12\n",
            "    Found existing installation: nvidia-cufft-cu12 11.2.3.61\n",
            "    Uninstalling nvidia-cufft-cu12-11.2.3.61:\n",
            "      Successfully uninstalled nvidia-cufft-cu12-11.2.3.61\n",
            "  Attempting uninstall: nvidia-cuda-runtime-cu12\n",
            "    Found existing installation: nvidia-cuda-runtime-cu12 12.5.82\n",
            "    Uninstalling nvidia-cuda-runtime-cu12-12.5.82:\n",
            "      Successfully uninstalled nvidia-cuda-runtime-cu12-12.5.82\n",
            "  Attempting uninstall: nvidia-cuda-nvrtc-cu12\n",
            "    Found existing installation: nvidia-cuda-nvrtc-cu12 12.5.82\n",
            "    Uninstalling nvidia-cuda-nvrtc-cu12-12.5.82:\n",
            "      Successfully uninstalled nvidia-cuda-nvrtc-cu12-12.5.82\n",
            "  Attempting uninstall: nvidia-cuda-cupti-cu12\n",
            "    Found existing installation: nvidia-cuda-cupti-cu12 12.5.82\n",
            "    Uninstalling nvidia-cuda-cupti-cu12-12.5.82:\n",
            "      Successfully uninstalled nvidia-cuda-cupti-cu12-12.5.82\n",
            "  Attempting uninstall: nvidia-cublas-cu12\n",
            "    Found existing installation: nvidia-cublas-cu12 12.5.3.2\n",
            "    Uninstalling nvidia-cublas-cu12-12.5.3.2:\n",
            "      Successfully uninstalled nvidia-cublas-cu12-12.5.3.2\n",
            "  Attempting uninstall: nvidia-cusparse-cu12\n",
            "    Found existing installation: nvidia-cusparse-cu12 12.5.1.3\n",
            "    Uninstalling nvidia-cusparse-cu12-12.5.1.3:\n",
            "      Successfully uninstalled nvidia-cusparse-cu12-12.5.1.3\n",
            "  Attempting uninstall: nvidia-cudnn-cu12\n",
            "    Found existing installation: nvidia-cudnn-cu12 9.3.0.75\n",
            "    Uninstalling nvidia-cudnn-cu12-9.3.0.75:\n",
            "      Successfully uninstalled nvidia-cudnn-cu12-9.3.0.75\n",
            "  Attempting uninstall: nvidia-cusolver-cu12\n",
            "    Found existing installation: nvidia-cusolver-cu12 11.6.3.83\n",
            "    Uninstalling nvidia-cusolver-cu12-11.6.3.83:\n",
            "      Successfully uninstalled nvidia-cusolver-cu12-11.6.3.83\n",
            "Successfully installed lightning-utilities-0.14.3 nvidia-cublas-cu12-12.4.5.8 nvidia-cuda-cupti-cu12-12.4.127 nvidia-cuda-nvrtc-cu12-12.4.127 nvidia-cuda-runtime-cu12-12.4.127 nvidia-cudnn-cu12-9.1.0.70 nvidia-cufft-cu12-11.2.1.3 nvidia-curand-cu12-10.3.5.147 nvidia-cusolver-cu12-11.6.1.9 nvidia-cusparse-cu12-12.3.1.170 nvidia-nvjitlink-cu12-12.4.127 torchmetrics-1.7.3\n"
          ]
        }
      ]
    },
    {
      "cell_type": "markdown",
      "source": [
        "## Step 1: Import necessary modules"
      ],
      "metadata": {
        "id": "CelBuh9-wxT-"
      }
    },
    {
      "cell_type": "code",
      "source": [
        "import torch\n",
        "import torch.nn as nn\n",
        "import torch.optim as optim\n",
        "from torchvision import datasets, transforms\n",
        "from torch.utils.data import DataLoader\n",
        "import matplotlib.pyplot as plt\n",
        "import numpy as np\n",
        "from torchmetrics.image import PeakSignalNoiseRatio, StructuralSimilarityIndexMeasure"
      ],
      "metadata": {
        "id": "EUxdaCof2-QS"
      },
      "execution_count": 2,
      "outputs": []
    },
    {
      "cell_type": "markdown",
      "source": [
        "## Device Configuration"
      ],
      "metadata": {
        "id": "jVfVAuEm3_Qp"
      }
    },
    {
      "cell_type": "code",
      "source": [
        "device = torch.device(\"cuda\" if torch.cuda.is_available() else \"cpu\")\n",
        "print(f\"Using device: {device}\")"
      ],
      "metadata": {
        "colab": {
          "base_uri": "https://localhost:8080/"
        },
        "id": "hq82_NHo3-9J",
        "outputId": "37250c2b-28c2-42fd-ab3c-b3699d5e122a"
      },
      "execution_count": 3,
      "outputs": [
        {
          "output_type": "stream",
          "name": "stdout",
          "text": [
            "Using device: cuda\n"
          ]
        }
      ]
    },
    {
      "cell_type": "markdown",
      "source": [
        "## Hyperparameters"
      ],
      "metadata": {
        "id": "QGENHw1a4GKR"
      }
    },
    {
      "cell_type": "code",
      "source": [
        "EPOCHS = 20\n",
        "LEARNING_RATE = 1e-3\n",
        "BATCH_SIZE = 128\n",
        "LATENT_DIM = 32 # This is gonna be the latent dimension for the simple autoencoder"
      ],
      "metadata": {
        "id": "y_UVhehQ4OCS"
      },
      "execution_count": 4,
      "outputs": []
    },
    {
      "cell_type": "markdown",
      "source": [
        "## Data Loading"
      ],
      "metadata": {
        "id": "NGVlMOWm4mSf"
      }
    },
    {
      "cell_type": "markdown",
      "source": [
        "### Data Transformations"
      ],
      "metadata": {
        "id": "rzmevIup44WX"
      }
    },
    {
      "cell_type": "code",
      "source": [
        "transform = transforms.Compose([\n",
        "    transforms.ToTensor(),\n",
        "])"
      ],
      "metadata": {
        "id": "G9Q13A8H4vP4"
      },
      "execution_count": 5,
      "outputs": []
    },
    {
      "cell_type": "markdown",
      "source": [
        "### Load MNIST Dataset"
      ],
      "metadata": {
        "id": "lIVuWrbI5ACO"
      }
    },
    {
      "cell_type": "code",
      "source": [
        "train_dataset = datasets.MNIST(root='./data', train=True, download=True, transform=transform)\n",
        "test_dataset = datasets.MNIST(root='./data', train=False, download=True, transform=transform)"
      ],
      "metadata": {
        "id": "1Lysl-XF47R2",
        "colab": {
          "base_uri": "https://localhost:8080/"
        },
        "outputId": "25dcd63c-8ee3-4815-8dbe-1f9c3b368d78"
      },
      "execution_count": 6,
      "outputs": [
        {
          "output_type": "stream",
          "name": "stderr",
          "text": [
            "100%|██████████| 9.91M/9.91M [00:00<00:00, 10.5MB/s]\n",
            "100%|██████████| 28.9k/28.9k [00:00<00:00, 338kB/s]\n",
            "100%|██████████| 1.65M/1.65M [00:00<00:00, 3.24MB/s]\n",
            "100%|██████████| 4.54k/4.54k [00:00<00:00, 8.41MB/s]\n"
          ]
        }
      ]
    },
    {
      "cell_type": "markdown",
      "source": [
        "# Create DataLoaders"
      ],
      "metadata": {
        "id": "3-oMm7GE5Ptt"
      }
    },
    {
      "cell_type": "code",
      "source": [
        "train_loader = DataLoader(train_dataset, batch_size=BATCH_SIZE, shuffle=True)\n",
        "test_loader = DataLoader(test_dataset, batch_size=BATCH_SIZE, shuffle=False)\n",
        "\n",
        "print(\"\\nData loaded successfully.\")\n",
        "print(f\"Train dataset size: {len(train_dataset)}\")\n",
        "print(f\"Test dataset size: {len(test_dataset)}\")"
      ],
      "metadata": {
        "colab": {
          "base_uri": "https://localhost:8080/"
        },
        "id": "S3CodpNh5JjN",
        "outputId": "94330181-8c18-4378-8ac5-65c3587d3f40"
      },
      "execution_count": 7,
      "outputs": [
        {
          "output_type": "stream",
          "name": "stdout",
          "text": [
            "\n",
            "Data loaded successfully.\n",
            "Train dataset size: 60000\n",
            "Test dataset size: 10000\n"
          ]
        }
      ]
    },
    {
      "cell_type": "markdown",
      "source": [
        "## Helper Functions (Training, Visualization, Evaluation)"
      ],
      "metadata": {
        "id": "yhStDcr05YjJ"
      }
    },
    {
      "cell_type": "markdown",
      "source": [
        "### Train Model Function"
      ],
      "metadata": {
        "id": "t7VMMKp25sv9"
      }
    },
    {
      "cell_type": "code",
      "source": [
        "def train_model(model, data_loader, epochs, criterion, optimizer):\n",
        "    \"\"\"Generic training loop for reconstruction-based models.\"\"\"\n",
        "    model.train()\n",
        "    for epoch in range(epochs):\n",
        "        total_loss = 0\n",
        "        for images, _ in data_loader:\n",
        "            images = images.to(device)\n",
        "\n",
        "            # Forward pass\n",
        "            reconstructed = model(images)\n",
        "            loss = criterion(reconstructed, images)\n",
        "\n",
        "            # Backward and optimize\n",
        "            optimizer.zero_grad()\n",
        "            loss.backward()\n",
        "            optimizer.step()\n",
        "\n",
        "            total_loss += loss.item()\n",
        "\n",
        "        avg_loss = total_loss / len(data_loader)\n",
        "        print(f'Epoch [{epoch+1}/{epochs}], Loss: {avg_loss:.4f}')"
      ],
      "metadata": {
        "id": "tpjgfFUV5ra0"
      },
      "execution_count": 8,
      "outputs": []
    },
    {
      "cell_type": "markdown",
      "source": [
        "### Visualization"
      ],
      "metadata": {
        "id": "RM5sYiOU51R2"
      }
    },
    {
      "cell_type": "code",
      "source": [
        "def visualize_reconstruction(model, data_loader, title, num_images=10):\n",
        "    \"\"\"Visualizes original vs. reconstructed images.\"\"\"\n",
        "    model.eval()\n",
        "    with torch.no_grad():\n",
        "        images, _ = next(iter(data_loader))\n",
        "        images = images.to(device)\n",
        "\n",
        "        reconstructed = model(images).cpu()\n",
        "        images = images.cpu()\n",
        "\n",
        "        plt.figure(figsize=(20, 4))\n",
        "        plt.suptitle(title, fontsize=16)\n",
        "        for i in range(num_images):\n",
        "            # Original Image\n",
        "            ax = plt.subplot(2, num_images, i + 1)\n",
        "            plt.imshow(images[i].squeeze(), cmap='gray')\n",
        "            ax.get_xaxis().set_visible(False)\n",
        "            ax.get_yaxis().set_visible(False)\n",
        "            if i == num_images // 2:\n",
        "                ax.set_title('Original Images')\n",
        "\n",
        "            # Reconstructed Image\n",
        "            ax = plt.subplot(2, num_images, i + 1 + num_images)\n",
        "            plt.imshow(reconstructed[i].squeeze(), cmap='gray')\n",
        "            ax.get_xaxis().set_visible(False)\n",
        "            ax.get_yaxis().set_visible(False)\n",
        "            if i == num_images // 2:\n",
        "                ax.set_title('Reconstructed Images')\n",
        "        plt.show()"
      ],
      "metadata": {
        "id": "a3EQs0V851GV"
      },
      "execution_count": 9,
      "outputs": []
    },
    {
      "cell_type": "markdown",
      "source": [
        "### Model Evaluation"
      ],
      "metadata": {
        "id": "dsv5t-D75-CB"
      }
    },
    {
      "cell_type": "code",
      "source": [
        "def evaluate_model_with_metrics(model, data_loader):\n",
        "    \"\"\"Evaluates the model and prints PSNR and SSIM metrics.\"\"\"\n",
        "    model.eval()\n",
        "    psnr = PeakSignalNoiseRatio(data_range=1.0).to(device)\n",
        "    ssim = StructuralSimilarityIndexMeasure(data_range=1.0).to(device)\n",
        "\n",
        "    with torch.no_grad():\n",
        "        for images, _ in data_loader:\n",
        "            images = images.to(device)\n",
        "            reconstructed = model(images)\n",
        "            psnr.update(reconstructed, images)\n",
        "            ssim.update(reconstructed, images)\n",
        "\n",
        "    avg_psnr = psnr.compute()\n",
        "    avg_ssim = ssim.compute()\n",
        "\n",
        "    print(f\"  - Average PSNR: {avg_psnr:.4f} dB\")\n",
        "    print(f\"  - Average SSIM: {avg_ssim:.4f}\")"
      ],
      "metadata": {
        "id": "JXp4QQua5YRt"
      },
      "execution_count": 10,
      "outputs": []
    },
    {
      "cell_type": "markdown",
      "source": [
        "## **Part 1:** Simple (Vanilla) Autoencoder"
      ],
      "metadata": {
        "id": "Kt-AqdnJ6LQ9"
      }
    },
    {
      "cell_type": "markdown",
      "source": [
        "#### `x.view` method"
      ],
      "metadata": {
        "id": "2OwUgcxsMYfk"
      }
    },
    {
      "cell_type": "code",
      "source": [
        "# Example to flatten\n",
        "img = torch.randn(8, 3, 32, 32)\n",
        "flattened = img.view(8, -1)\n",
        "\n",
        "print(f'Flattend shape: {flattened.shape}')"
      ],
      "metadata": {
        "id": "iF7BHgW9MfJs",
        "colab": {
          "base_uri": "https://localhost:8080/"
        },
        "outputId": "dece3256-b771-4606-eac6-54c5be17bcf0"
      },
      "execution_count": 11,
      "outputs": [
        {
          "output_type": "stream",
          "name": "stdout",
          "text": [
            "Flattend shape: torch.Size([8, 3072])\n"
          ]
        }
      ]
    },
    {
      "cell_type": "code",
      "source": [
        "class Autoencoder(nn.Module):\n",
        "    def __init__(self, latent_dim):\n",
        "        super(Autoencoder, self).__init__()\n",
        "        self.encoder = nn.Sequential(\n",
        "            nn.Linear(28 * 28, 128), nn.ReLU(),\n",
        "            nn.Linear(128, 64), nn.ReLU(),\n",
        "            nn.Linear(64, latent_dim)\n",
        "        )\n",
        "        self.decoder = nn.Sequential(\n",
        "            nn.Linear(latent_dim, 64), nn.ReLU(),\n",
        "            nn.Linear(64, 128), nn.ReLU(),\n",
        "            nn.Linear(128, 28 * 28),\n",
        "            nn.Sigmoid()\n",
        "        )\n",
        "\n",
        "    def forward(self, x):\n",
        "        batch_size = x.size(0)\n",
        "        x_flat = x.view(batch_size, -1)\n",
        "        encoded = self.encoder(x_flat)\n",
        "        decoded_flat = self.decoder(encoded)\n",
        "        return decoded_flat.view(batch_size, 1, 28, 28)"
      ],
      "metadata": {
        "id": "qGs-e4he5YDm"
      },
      "execution_count": 12,
      "outputs": []
    },
    {
      "cell_type": "markdown",
      "source": [
        "### Initialization and Training"
      ],
      "metadata": {
        "id": "lHw6wuxe6iLC"
      }
    },
    {
      "cell_type": "code",
      "source": [
        "simple_ae = Autoencoder(latent_dim=LATENT_DIM).to(device)\n",
        "criterion = nn.MSELoss()\n",
        "optimizer = optim.Adam(simple_ae.parameters(), lr=LEARNING_RATE)\n",
        "\n",
        "train_model(simple_ae, train_loader, EPOCHS, criterion, optimizer)"
      ],
      "metadata": {
        "colab": {
          "base_uri": "https://localhost:8080/"
        },
        "id": "Z5arIsGD6hNV",
        "outputId": "e9625083-cee9-4b1e-95c9-6d913a22f8c3"
      },
      "execution_count": 13,
      "outputs": [
        {
          "output_type": "stream",
          "name": "stdout",
          "text": [
            "Epoch [1/20], Loss: 0.0599\n",
            "Epoch [2/20], Loss: 0.0303\n",
            "Epoch [3/20], Loss: 0.0240\n",
            "Epoch [4/20], Loss: 0.0208\n",
            "Epoch [5/20], Loss: 0.0186\n",
            "Epoch [6/20], Loss: 0.0170\n",
            "Epoch [7/20], Loss: 0.0157\n",
            "Epoch [8/20], Loss: 0.0148\n",
            "Epoch [9/20], Loss: 0.0140\n",
            "Epoch [10/20], Loss: 0.0132\n",
            "Epoch [11/20], Loss: 0.0125\n",
            "Epoch [12/20], Loss: 0.0118\n",
            "Epoch [13/20], Loss: 0.0113\n",
            "Epoch [14/20], Loss: 0.0109\n",
            "Epoch [15/20], Loss: 0.0105\n",
            "Epoch [16/20], Loss: 0.0102\n",
            "Epoch [17/20], Loss: 0.0098\n",
            "Epoch [18/20], Loss: 0.0096\n",
            "Epoch [19/20], Loss: 0.0093\n",
            "Epoch [20/20], Loss: 0.0091\n"
          ]
        }
      ]
    },
    {
      "cell_type": "markdown",
      "source": [
        "### Visualization and Evaluation"
      ],
      "metadata": {
        "id": "o0eutm2A6qgS"
      }
    },
    {
      "cell_type": "code",
      "source": [
        "visualize_reconstruction(simple_ae, test_loader, \"Simple Autoencoder Reconstruction\")\n",
        "print(\"Evaluating Simple Autoencoder...\")\n",
        "evaluate_model_with_metrics(simple_ae, test_loader)"
      ],
      "metadata": {
        "colab": {
          "base_uri": "https://localhost:8080/",
          "height": 404
        },
        "id": "8RrUY_9z6p1l",
        "outputId": "b434d93b-bd15-4187-c461-fa1de6334328"
      },
      "execution_count": 14,
      "outputs": [
        {
          "output_type": "display_data",
          "data": {
            "text/plain": [
              "<Figure size 2000x400 with 20 Axes>"
            ],
            "image/png": "[encoded data removed]"
          },
          "metadata": {}
        },
        {
          "output_type": "stream",
          "name": "stdout",
          "text": [
            "Evaluating Simple Autoencoder...\n",
            "  - Average PSNR: 20.5489 dB\n",
            "  - Average SSIM: 0.9184\n"
          ]
        }
      ]
    },
    {
      "cell_type": "markdown",
      "source": [
        "## **Part 2:** Denoising Autoencoder"
      ],
      "metadata": {
        "id": "n7PlF56o8xgW"
      }
    },
    {
      "cell_type": "markdown",
      "source": [
        "## Helper Functions"
      ],
      "metadata": {
        "id": "YGDcROuX899h"
      }
    },
    {
      "cell_type": "markdown",
      "source": [
        "### Add Gausian noise function"
      ],
      "metadata": {
        "id": "hQmvshO29Ic3"
      }
    },
    {
      "cell_type": "code",
      "source": [
        "def add_noise(images, noise_factor=0.5):\n",
        "    noisy_images = images + noise_factor * torch.randn_like(images)\n",
        "    return torch.clamp(noisy_images, 0., 1.)"
      ],
      "metadata": {
        "id": "E1ovblfJ8xTH"
      },
      "execution_count": 15,
      "outputs": []
    },
    {
      "cell_type": "markdown",
      "source": [
        "### Train denoising Model"
      ],
      "metadata": {
        "id": "Pwt6THHg9RD3"
      }
    },
    {
      "cell_type": "code",
      "source": [
        "def train_denoising_model(model, data_loader, epochs, criterion, optimizer, noise_factor=0.5):\n",
        "    model.train()\n",
        "    for epoch in range(epochs):\n",
        "        total_loss = 0\n",
        "        for images, _ in data_loader:\n",
        "            images = images.to(device)\n",
        "            noisy_images = add_noise(images, noise_factor)\n",
        "\n",
        "            # Forward pass with noisy images\n",
        "            reconstructed = model(noisy_images)\n",
        "            # Calculate loss against ORIGINAL clean images\n",
        "            loss = criterion(reconstructed, images)\n",
        "\n",
        "            optimizer.zero_grad()\n",
        "            loss.backward()\n",
        "            optimizer.step()\n",
        "            total_loss += loss.item()\n",
        "\n",
        "        avg_loss = total_loss / len(data_loader)\n",
        "        print(f'Epoch [{epoch+1}/{epochs}], Loss: {avg_loss:.4f}')"
      ],
      "metadata": {
        "id": "4W8XN1dz9QRO"
      },
      "execution_count": 16,
      "outputs": []
    },
    {
      "cell_type": "markdown",
      "source": [
        "### Visualize denoising model"
      ],
      "metadata": {
        "id": "f-SDHQ699Yv4"
      }
    },
    {
      "cell_type": "code",
      "source": [
        "def visualize_denoising(model, data_loader, noise_factor=0.5, num_images=10):\n",
        "    model.eval()\n",
        "    with torch.no_grad():\n",
        "        original_images, _ = next(iter(data_loader))\n",
        "        original_images = original_images.to(device)\n",
        "        noisy_images = add_noise(original_images, noise_factor)\n",
        "        denoised_images = model(noisy_images)\n",
        "\n",
        "        # Move to CPU for plotting\n",
        "        original, noisy, denoised = original_images.cpu(), noisy_images.cpu(), denoised_images.cpu()\n",
        "\n",
        "        plt.figure(figsize=(20, 6))\n",
        "        plt.suptitle(\"Denoising Autoencoder Results\", fontsize=16)\n",
        "        for i in range(num_images):\n",
        "            # Noisy Input\n",
        "            ax = plt.subplot(3, num_images, i + 1)\n",
        "            plt.imshow(noisy[i].squeeze(), cmap='gray')\n",
        "            if i == 0: ax.set_ylabel(\"Noisy\")\n",
        "            ax.get_xaxis().set_visible(False); ax.get_yaxis().set_ticks([])\n",
        "\n",
        "            # Denoised Output\n",
        "            ax = plt.subplot(3, num_images, i + 1 + num_images)\n",
        "            plt.imshow(denoised[i].squeeze(), cmap='gray')\n",
        "            if i == 0: ax.set_ylabel(\"Denoised\")\n",
        "            ax.get_xaxis().set_visible(False); ax.get_yaxis().set_ticks([])\n",
        "\n",
        "            # Original Image\n",
        "            ax = plt.subplot(3, num_images, i + 1 + 2 * num_images)\n",
        "            plt.imshow(original[i].squeeze(), cmap='gray')\n",
        "            if i == 0: ax.set_ylabel(\"Original\")\n",
        "            ax.get_xaxis().set_visible(False); ax.get_yaxis().set_ticks([])\n",
        "        plt.show()"
      ],
      "metadata": {
        "id": "Fd4NLrXE9X6R"
      },
      "execution_count": 17,
      "outputs": []
    },
    {
      "cell_type": "markdown",
      "source": [
        "### Model initialization and training"
      ],
      "metadata": {
        "id": "ri8IowNU9h-u"
      }
    },
    {
      "cell_type": "code",
      "source": [
        "denoising_ae = Autoencoder(latent_dim=LATENT_DIM).to(device)\n",
        "optimizer = optim.Adam(denoising_ae.parameters(), lr=LEARNING_RATE)\n",
        "\n",
        "train_denoising_model(denoising_ae, train_loader, EPOCHS, criterion, optimizer)"
      ],
      "metadata": {
        "colab": {
          "base_uri": "https://localhost:8080/"
        },
        "id": "xz_nQb5Q9hQm",
        "outputId": "7b8d637e-6396-43d2-a746-6e726cc379b7"
      },
      "execution_count": 18,
      "outputs": [
        {
          "output_type": "stream",
          "name": "stdout",
          "text": [
            "Epoch [1/20], Loss: 0.0679\n",
            "Epoch [2/20], Loss: 0.0434\n",
            "Epoch [3/20], Loss: 0.0343\n",
            "Epoch [4/20], Loss: 0.0308\n",
            "Epoch [5/20], Loss: 0.0289\n",
            "Epoch [6/20], Loss: 0.0274\n",
            "Epoch [7/20], Loss: 0.0259\n",
            "Epoch [8/20], Loss: 0.0248\n",
            "Epoch [9/20], Loss: 0.0239\n",
            "Epoch [10/20], Loss: 0.0231\n",
            "Epoch [11/20], Loss: 0.0225\n",
            "Epoch [12/20], Loss: 0.0220\n",
            "Epoch [13/20], Loss: 0.0215\n",
            "Epoch [14/20], Loss: 0.0212\n",
            "Epoch [15/20], Loss: 0.0209\n",
            "Epoch [16/20], Loss: 0.0206\n",
            "Epoch [17/20], Loss: 0.0203\n",
            "Epoch [18/20], Loss: 0.0200\n",
            "Epoch [19/20], Loss: 0.0197\n",
            "Epoch [20/20], Loss: 0.0195\n"
          ]
        }
      ]
    },
    {
      "cell_type": "markdown",
      "source": [
        "### Visualization and Evaluation"
      ],
      "metadata": {
        "id": "cLLz9HI39rYh"
      }
    },
    {
      "cell_type": "code",
      "source": [
        "visualize_denoising(denoising_ae, test_loader)\n",
        "print(\"Evaluating Denoising Autoencoder (on clean images)...\")\n",
        "evaluate_model_with_metrics(denoising_ae, test_loader)"
      ],
      "metadata": {
        "colab": {
          "base_uri": "https://localhost:8080/",
          "height": 560
        },
        "id": "Gw6cDznp9q1S",
        "outputId": "410c1f34-f2dc-4bb6-cc86-b9f42e1f994d"
      },
      "execution_count": 19,
      "outputs": [
        {
          "output_type": "display_data",
          "data": {
            "text/plain": [
              "<Figure size 2000x600 with 30 Axes>"
            ],
            "image/png": "[encoded data removed]"
          },
          "metadata": {}
        },
        {
          "output_type": "stream",
          "name": "stdout",
          "text": [
            "Evaluating Denoising Autoencoder (on clean images)...\n",
            "  - Average PSNR: 17.4934 dB\n",
            "  - Average SSIM: 0.8353\n"
          ]
        }
      ]
    },
    {
      "cell_type": "markdown",
      "source": [
        "## Convolutional Autoencoder"
      ],
      "metadata": {
        "id": "waBO4_T7-1zw"
      }
    },
    {
      "cell_type": "code",
      "source": [
        "class ConvAutoencoder(nn.Module):\n",
        "    def __init__(self):\n",
        "        super(ConvAutoencoder, self).__init__()\n",
        "        # Encoder: (B, 1, 28, 28) -> (B, 32, 7, 7)\n",
        "        self.encoder = nn.Sequential(\n",
        "            nn.Conv2d(1, 16, kernel_size=3, stride=2, padding=1),  # (B, 16, 14, 14)\n",
        "            nn.ReLU(),\n",
        "            nn.Conv2d(16, 32, kernel_size=3, stride=2, padding=1), # (B, 32, 7, 7)\n",
        "            nn.ReLU()\n",
        "        )\n",
        "        # Decoder: (B, 32, 7, 7) -> (B, 1, 28, 28)\n",
        "        self.decoder = nn.Sequential(\n",
        "            nn.ConvTranspose2d(32, 16, kernel_size=3, stride=2, padding=1, output_padding=1), # (B, 16, 14, 14)\n",
        "            nn.ReLU(),\n",
        "            nn.ConvTranspose2d(16, 1, kernel_size=3, stride=2, padding=1, output_padding=1), # (B, 1, 28, 28)\n",
        "            nn.Sigmoid()\n",
        "        )\n",
        "\n",
        "    def forward(self, x):\n",
        "        encoded = self.encoder(x)\n",
        "        decoded = self.decoder(encoded)\n",
        "        return decoded"
      ],
      "metadata": {
        "id": "MdM7LYak-1hr"
      },
      "execution_count": 20,
      "outputs": []
    },
    {
      "cell_type": "markdown",
      "source": [
        "### Initialization and Training"
      ],
      "metadata": {
        "id": "uxU4syJS_BtY"
      }
    },
    {
      "cell_type": "code",
      "source": [
        "# --- Initialization and Training ---\n",
        "conv_ae = ConvAutoencoder().to(device)\n",
        "optimizer = optim.Adam(conv_ae.parameters(), lr=LEARNING_RATE)\n",
        "# We can reuse the same generic training loop!\n",
        "train_model(conv_ae, train_loader, EPOCHS, criterion, optimizer)"
      ],
      "metadata": {
        "colab": {
          "base_uri": "https://localhost:8080/"
        },
        "id": "5MpRDIEu-1UI",
        "outputId": "9091b5bf-e141-4196-adf9-7d4436eeb7b0"
      },
      "execution_count": 21,
      "outputs": [
        {
          "output_type": "stream",
          "name": "stdout",
          "text": [
            "Epoch [1/20], Loss: 0.0316\n",
            "Epoch [2/20], Loss: 0.0017\n",
            "Epoch [3/20], Loss: 0.0011\n",
            "Epoch [4/20], Loss: 0.0009\n",
            "Epoch [5/20], Loss: 0.0008\n",
            "Epoch [6/20], Loss: 0.0007\n",
            "Epoch [7/20], Loss: 0.0006\n",
            "Epoch [8/20], Loss: 0.0006\n",
            "Epoch [9/20], Loss: 0.0005\n",
            "Epoch [10/20], Loss: 0.0005\n",
            "Epoch [11/20], Loss: 0.0004\n",
            "Epoch [12/20], Loss: 0.0004\n",
            "Epoch [13/20], Loss: 0.0004\n",
            "Epoch [14/20], Loss: 0.0004\n",
            "Epoch [15/20], Loss: 0.0004\n",
            "Epoch [16/20], Loss: 0.0004\n",
            "Epoch [17/20], Loss: 0.0004\n",
            "Epoch [18/20], Loss: 0.0003\n",
            "Epoch [19/20], Loss: 0.0003\n",
            "Epoch [20/20], Loss: 0.0003\n"
          ]
        }
      ]
    },
    {
      "cell_type": "markdown",
      "source": [
        "### Visualization and Evaluation"
      ],
      "metadata": {
        "id": "YV17y6Nz_OtI"
      }
    },
    {
      "cell_type": "code",
      "source": [
        "visualize_reconstruction(conv_ae, test_loader, \"Convolutional Autoencoder Reconstruction\")\n",
        "print(\"Evaluating Convolutional Autoencoder...\")\n",
        "evaluate_model_with_metrics(conv_ae, test_loader)"
      ],
      "metadata": {
        "colab": {
          "base_uri": "https://localhost:8080/",
          "height": 404
        },
        "id": "rCLwNGbb_L6y",
        "outputId": "054e67bd-237c-4340-e207-cdd30df8edf6"
      },
      "execution_count": 22,
      "outputs": [
        {
          "output_type": "display_data",
          "data": {
            "text/plain": [
              "<Figure size 2000x400 with 20 Axes>"
            ],
            "image/png": "[encoded data removed]"
          },
          "metadata": {}
        },
        {
          "output_type": "stream",
          "name": "stdout",
          "text": [
            "Evaluating Convolutional Autoencoder...\n",
            "  - Average PSNR: 34.9625 dB\n",
            "  - Average SSIM: 0.9973\n"
          ]
        }
      ]
    },
    {
      "cell_type": "code",
      "source": [],
      "metadata": {
        "id": "Ap9wSEmAKeu1"
      },
      "execution_count": 22,
      "outputs": []
    },
    {
      "cell_type": "markdown",
      "source": [
        "## Assignment\n",
        "1. Implement the Variational Autoencoder\n",
        "2. Implement a method or function to  visualize the latent space of an Autoencoder\n",
        "3. Read the docs [https://docs.pytorch.org/tutorials/beginner/basics/data_tutorial.html] on how to create your custom datasets"
      ],
      "metadata": {
        "id": "rlMPZ36uK2xZ"
      }
    },
    {
      "cell_type": "markdown",
      "source": [
        "## Resources\n",
        "\n",
        "GANs\n",
        "- https://poloclub.github.io/ganlab/   \n",
        "\n",
        "CycleGANs\n",
        "- https://junyanz.github.io/CycleGAN/  \n",
        "\n",
        "Pix2Pix GANs\n",
        "- https://github.com/junyanz/pytorch-CycleGAN-and-pix2pix  \n",
        "\n",
        "ESTGANs  \n",
        "- https://esrgan.readthedocs.io/en/latest/\n"
      ],
      "metadata": {
        "id": "0Q6fFj0_KfdG"
      }
    },
    {
      "cell_type": "code",
      "source": [],
      "metadata": {
        "id": "3FO9wi5CKfBZ"
      },
      "execution_count": 22,
      "outputs": []
    }
  ]
}