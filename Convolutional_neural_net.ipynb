{
  "nbformat": 4,
  "nbformat_minor": 0,
  "metadata": {
    "colab": {
      "provenance": [],
      "gpuType": "T4",
      "include_colab_link": true
    },
    "kernelspec": {
      "name": "python3",
      "display_name": "Python 3"
    },
    "language_info": {
      "name": "python"
    },
    "accelerator": "GPU"
  },
  "cells": [
    {
      "cell_type": "markdown",
      "metadata": {
        "id": "view-in-github",
        "colab_type": "text"
      },
      "source": [
        "<a href=\"https://colab.research.google.com/github/Hotchapu13/MRI_Uganda_lab_notebooks/blob/main/Convolutional_neural_net.ipynb\" target=\"_parent\"><img src=\"https://colab.research.google.com/assets/colab-badge.svg\" alt=\"Open In Colab\"/></a>"
      ]
    },
    {
      "cell_type": "markdown",
      "source": [
        "# Lab 4: Deep learning in Pytorch\n",
        "An introductory lab to CNN implementation using Pytorch\n",
        "\n",
        "**Author:** Leo Kinyera  \n",
        "**Date:** 1st July, 2025  \n",
        "**Company:** MRI-Uganda  \n",
        "**Session:** Internship  \n"
      ],
      "metadata": {
        "id": "L5wlQn7G8UI8"
      }
    },
    {
      "cell_type": "markdown",
      "source": [
        "## Step 1: Import necessary modules"
      ],
      "metadata": {
        "id": "TkoHE8sjHwGt"
      }
    },
    {
      "cell_type": "code",
      "source": [
        "import torch\n",
        "import torch.nn as nn\n",
        "import torch.optim as optim\n",
        "import torchvision\n",
        "import torchvision.transforms as transforms\n",
        "from torch.utils.data import DataLoader\n",
        "import matplotlib.pyplot as plt\n",
        "import numpy as np"
      ],
      "metadata": {
        "id": "sX9CavwC8GZu"
      },
      "execution_count": 1,
      "outputs": []
    },
    {
      "cell_type": "markdown",
      "source": [
        "## Step 2: Data transforms and Loading  \n",
        "\n",
        "1. **DEFINE TRANSFORMATIONS**  \n",
        "Transformations apply preprocessing to the data. We chain them together using transforms.Compose.  \n",
        "\n",
        "2. transforms.ToTensor() does two things:\n",
        "1. It converts a PIL Image or numpy.ndarray (H x W x C) in the range [0, 255]\n",
        "  into a torch.FloatTensor of shape (C x H x W) in the range [0.0, 1.0].\n",
        "  The channel dimension is moved to the front, which is the format PyTorch expects.\n",
        "\n"
      ],
      "metadata": {
        "id": "YKWPGcI28jU3"
      }
    },
    {
      "cell_type": "code",
      "source": [
        "transform = transforms.Compose([\n",
        "    transforms.ToTensor(),\n",
        "    transforms.Normalize((0.5,), (0.5,))\n",
        "])\n",
        "\n",
        "# Download Dataset\n",
        "train_dataset = torchvision.datasets.FashionMNIST(root='./data', train=True, download=True, transform=transform)\n",
        "test_dataset = torchvision.datasets.FashionMNIST(root='./data', train=False, download=True, transform=transform)\n",
        "\n",
        "# Batched and dataloaders\n",
        "BATCH_SIZE = 64\n",
        "\n",
        "train_loader = DataLoader(\n",
        "    dataset=train_dataset,\n",
        "    batch_size=BATCH_SIZE,\n",
        "    shuffle=True\n",
        ")\n",
        "\n",
        "test_loader = DataLoader(\n",
        "    dataset=test_dataset,\n",
        "    batch_size=BATCH_SIZE,\n",
        "    shuffle=False\n",
        ")"
      ],
      "metadata": {
        "id": "HIfd4-HD8bZL",
        "colab": {
          "base_uri": "https://localhost:8080/"
        },
        "outputId": "9c233436-8ccf-4836-e782-57ffc51e1f5d"
      },
      "execution_count": 2,
      "outputs": [
        {
          "output_type": "stream",
          "name": "stderr",
          "text": [
            "100%|██████████| 26.4M/26.4M [00:02<00:00, 11.0MB/s]\n",
            "100%|██████████| 29.5k/29.5k [00:00<00:00, 164kB/s]\n",
            "100%|██████████| 4.42M/4.42M [00:01<00:00, 3.09MB/s]\n",
            "100%|██████████| 5.15k/5.15k [00:00<00:00, 12.0MB/s]\n"
          ]
        }
      ]
    },
    {
      "cell_type": "markdown",
      "source": [
        "## Visualize some input images"
      ],
      "metadata": {
        "id": "XfKUqHQbI05y"
      }
    },
    {
      "cell_type": "code",
      "metadata": {
        "colab": {
          "base_uri": "https://localhost:8080/",
          "height": 212
        },
        "id": "4df415de",
        "outputId": "33632603-6ba6-4c1b-baac-8bd6338cd077"
      },
      "source": [
        "def imshow(img):\n",
        "    img = img / 2 + 0.5\n",
        "    npimg = img.numpy()\n",
        "    plt.imshow(np.transpose(npimg, (1, 2, 0)))\n",
        "    plt.show()\n",
        "\n",
        "dataiter = iter(train_loader)\n",
        "images, labels = next(dataiter)\n",
        "\n",
        "imshow(torchvision.utils.make_grid(images[:4]))\n",
        "print(' '.join(f'{train_dataset.classes[labels[j]]:5s}' for j in range(4)))"
      ],
      "execution_count": 3,
      "outputs": [
        {
          "output_type": "display_data",
          "data": {
            "text/plain": [
              "<Figure size 640x480 with 1 Axes>"
            ],
            "image/png": "[encoded data removed]"
          },
          "metadata": {}
        },
        {
          "output_type": "stream",
          "name": "stdout",
          "text": [
            "Trouser Pullover Coat  T-shirt/top\n"
          ]
        }
      ]
    },
    {
      "cell_type": "code",
      "source": [],
      "metadata": {
        "id": "-luL98W2A6KS"
      },
      "execution_count": 3,
      "outputs": []
    },
    {
      "cell_type": "markdown",
      "source": [
        "## Step 3: Define the CNN Model Architecture\n",
        "\n",
        "`nn.Conv2d` is a 2D convolutional layer.\n",
        "- `in_channels=1`: The number of channels in the input image. For grayscale, this is 1.  \n",
        "\n",
        "- `out_channels=16`: The number of filters (or kernels) the layer will learn. This is a design choice. It determines the number of feature maps in the output.  \n",
        "\n",
        "- `kernel_size=3`: The size of the convolutional filter (3x3). A common choice.  \n",
        "\n",
        "- `stride=1`: The step size the filter moves across the image. 1 means it moves one pixel at a time.  \n",
        "\n",
        "- `padding=1`: Adds a 1-pixel border of zeros around the input image. This is \"same\" padding, meaning the output spatial dimensions (height, width) will be the same as the input when stride=1 and kernel_size=3. (Input: 28x28 -> Output: 28x28)\n",
        "\n",
        "---  \n",
        "- `nn.BatchNorm2d` normalizes the activations of the previous layer across the mini-batch.  \n",
        "- It helps stabilize training and can speed up convergence.  \n"
      ],
      "metadata": {
        "id": "_RFu2x3mAWJT"
      }
    },
    {
      "cell_type": "code",
      "source": [
        "class FashionCNN(nn.Module):\n",
        "    \"\"\"\n",
        "    A simple Convolutional Neural Network for Fashion-MNIST classification.\n",
        "    \"\"\"\n",
        "    def __init__(self):\n",
        "        \"\"\"\n",
        "        This is where we define all the layers of our network.\n",
        "        \"\"\"\n",
        "        super(FashionCNN, self).__init__()\n",
        "\n",
        "        self.layer1 = nn.Sequential(\n",
        "            nn.Conv2d(in_channels=1, out_channels=16, kernel_size=3, stride=1, padding=1),\n",
        "            nn.BatchNorm2d(16),\n",
        "            nn.ReLU(),\n",
        "            nn.MaxPool2d(kernel_size=2, stride=2)\n",
        "        )\n",
        "\n",
        "        self.layer2 = nn.Sequential(\n",
        "            nn.Conv2d(in_channels=16, out_channels=32, kernel_size=3, stride=1, padding=1),\n",
        "            nn.BatchNorm2d(32),\n",
        "            nn.ReLU(),\n",
        "            nn.MaxPool2d(kernel_size=2, stride=2)\n",
        "        )\n",
        "\n",
        "        self.fc = nn.Sequential(\n",
        "            nn.Flatten(),\n",
        "            nn.Linear(in_features=32 * 7 * 7, out_features=128),\n",
        "            nn.ReLU(),\n",
        "            nn.Linear(in_features=128, out_features=10)\n",
        "        )\n",
        "\n",
        "    def forward(self, x):\n",
        "        \"\"\"\n",
        "        Defines the forward pass of the network.\n",
        "        This method specifies how data flows through the layers defined in __init__.\n",
        "        `x` is the input tensor (a batch of images).\n",
        "        \"\"\"\n",
        "        out = self.layer1(x)\n",
        "        out = self.layer2(out)\n",
        "        out = self.fc(out)\n",
        "        return out"
      ],
      "metadata": {
        "id": "RfXxmYd0AU3u"
      },
      "execution_count": 4,
      "outputs": []
    },
    {
      "cell_type": "markdown",
      "source": [
        "## Step 4: Instantiate the Model, Loss Function, and Optimizer  \n",
        "\n",
        "### About the optimizer\n",
        "---   \n",
        "- The optimizer is responsible for updating the model's weights to minimize the loss.  \n",
        "\n",
        "- `optim.Adam` is a very popular and effective optimization algorithm.   \n",
        "- `model.parameters()`: This tells the optimizer which tensors (weights and biases) it should update.  \n",
        "- `lr=0.001`: The learning rate. This is a crucial hyperparameter that controls how large the weight  \n",
        "- updates are. 0.001 is a common and safe starting value for Adam."
      ],
      "metadata": {
        "id": "N_ZnMYsAAoao"
      }
    },
    {
      "cell_type": "code",
      "source": [
        "device = torch.device(\"cuda\" if torch.cuda.is_available() else \"cpu\")\n",
        "print(f\"Using device: {device}\")\n",
        "\n",
        "# Create an instance of our model\n",
        "model = FashionCNN()\n",
        "model.to(device)\n",
        "\n",
        "# Our loss function\n",
        "criterion = nn.CrossEntropyLoss()\n",
        "\n",
        "# Our optimizer\n",
        "optimizer = optim.Adam(model.parameters(), lr=0.001)"
      ],
      "metadata": {
        "colab": {
          "base_uri": "https://localhost:8080/"
        },
        "id": "GHMJWCz-Agjj",
        "outputId": "748d36df-0832-46c2-a239-7f0c024eb2ad"
      },
      "execution_count": 5,
      "outputs": [
        {
          "output_type": "stream",
          "name": "stdout",
          "text": [
            "Using device: cuda\n"
          ]
        }
      ]
    },
    {
      "cell_type": "code",
      "source": [],
      "metadata": {
        "id": "ZA-pf0UsAtaz"
      },
      "execution_count": 5,
      "outputs": []
    },
    {
      "cell_type": "markdown",
      "source": [
        "## Step 5: Training and Evaluation"
      ],
      "metadata": {
        "id": "36dFbuIBESe9"
      }
    },
    {
      "cell_type": "code",
      "source": [
        "num_epochs = 10\n",
        "\n",
        "# Get the total number of batches in the training loader to calculate and print progress.\n",
        "n_total_steps = len(train_loader)\n",
        "\n",
        "# Training loop\n",
        "for epoch in range(num_epochs):\n",
        "    model.train()\n",
        "    running_loss = 0.0\n",
        "    for i, (images, labels) in enumerate(train_loader):\n",
        "        images = images.to(device)\n",
        "        labels = labels.to(device)\n",
        "\n",
        "        outputs = model(images)\n",
        "        loss = criterion(outputs, labels)\n",
        "\n",
        "        optimizer.zero_grad()\n",
        "        loss.backward()\n",
        "        optimizer.step()\n",
        "\n",
        "        # Print statistics\n",
        "        running_loss += loss.item()\n",
        "        if (i + 1) % 200 == 0:\n",
        "            print(f'Epoch [{epoch+1}/{num_epochs}], Step [{i+1}/{n_total_steps}], Loss: {loss.item():.4f}')\n",
        "\n",
        "    # Model evaluation\n",
        "    model.eval()\n",
        "    with torch.no_grad():\n",
        "        n_correct = 0\n",
        "        n_samples = 0\n",
        "        for images, labels in test_loader:\n",
        "            images = images.to(device)\n",
        "            labels = labels.to(device)\n",
        "            outputs = model(images)\n",
        "\n",
        "            \"\"\"\n",
        "            - The class with the highest logit is what we choose as our prediction\n",
        "            - torch.max returns (value, index)\n",
        "            - We are interested in the index (the predicted class label)\n",
        "            \"\"\"\n",
        "            _, predicted = torch.max(outputs.data, 1)\n",
        "\n",
        "            # `n_samples` will be the total number of images in the test set.\n",
        "            n_samples += labels.size(0)\n",
        "            # `n_correct` will be the number of images the model classified correctly.\n",
        "            n_correct += (predicted == labels).sum().item()\n",
        "\n",
        "        # Calculate the accuracy\n",
        "        acc = 100.0 * n_correct / n_samples\n",
        "        print(f'Accuracy of the network on the 10000 test images: {acc:.2f} %')\n",
        "        print('-' * 30)\n",
        "\n",
        "print(\"Finished Training!\")"
      ],
      "metadata": {
        "colab": {
          "base_uri": "https://localhost:8080/"
        },
        "id": "a23jOy6iAtpH",
        "outputId": "6309e2d4-c396-4bd8-d192-32456d81d15d"
      },
      "execution_count": 7,
      "outputs": [
        {
          "output_type": "stream",
          "name": "stdout",
          "text": [
            "Epoch [1/10], Step [200/938], Loss: 0.0692\n",
            "Epoch [1/10], Step [400/938], Loss: 0.0660\n",
            "Epoch [1/10], Step [600/938], Loss: 0.1044\n",
            "Epoch [1/10], Step [800/938], Loss: 0.0723\n",
            "Accuracy of the network on the 10000 test images: 91.72 %\n",
            "------------------------------\n",
            "Epoch [2/10], Step [200/938], Loss: 0.1024\n",
            "Epoch [2/10], Step [400/938], Loss: 0.0838\n",
            "Epoch [2/10], Step [600/938], Loss: 0.1123\n",
            "Epoch [2/10], Step [800/938], Loss: 0.1705\n",
            "Accuracy of the network on the 10000 test images: 91.46 %\n",
            "------------------------------\n",
            "Epoch [3/10], Step [200/938], Loss: 0.0818\n",
            "Epoch [3/10], Step [400/938], Loss: 0.0523\n",
            "Epoch [3/10], Step [600/938], Loss: 0.1173\n",
            "Epoch [3/10], Step [800/938], Loss: 0.1345\n",
            "Accuracy of the network on the 10000 test images: 91.01 %\n",
            "------------------------------\n",
            "Epoch [4/10], Step [200/938], Loss: 0.0231\n",
            "Epoch [4/10], Step [400/938], Loss: 0.0428\n",
            "Epoch [4/10], Step [600/938], Loss: 0.0670\n",
            "Epoch [4/10], Step [800/938], Loss: 0.0254\n",
            "Accuracy of the network on the 10000 test images: 91.63 %\n",
            "------------------------------\n",
            "Epoch [5/10], Step [200/938], Loss: 0.0465\n",
            "Epoch [5/10], Step [400/938], Loss: 0.0340\n",
            "Epoch [5/10], Step [600/938], Loss: 0.0199\n",
            "Epoch [5/10], Step [800/938], Loss: 0.0505\n",
            "Accuracy of the network on the 10000 test images: 91.74 %\n",
            "------------------------------\n",
            "Epoch [6/10], Step [200/938], Loss: 0.0712\n",
            "Epoch [6/10], Step [400/938], Loss: 0.0596\n",
            "Epoch [6/10], Step [600/938], Loss: 0.0193\n",
            "Epoch [6/10], Step [800/938], Loss: 0.0268\n",
            "Accuracy of the network on the 10000 test images: 91.68 %\n",
            "------------------------------\n",
            "Epoch [7/10], Step [200/938], Loss: 0.0452\n",
            "Epoch [7/10], Step [400/938], Loss: 0.0443\n",
            "Epoch [7/10], Step [600/938], Loss: 0.0571\n",
            "Epoch [7/10], Step [800/938], Loss: 0.0416\n",
            "Accuracy of the network on the 10000 test images: 90.92 %\n",
            "------------------------------\n",
            "Epoch [8/10], Step [200/938], Loss: 0.0234\n",
            "Epoch [8/10], Step [400/938], Loss: 0.0316\n",
            "Epoch [8/10], Step [600/938], Loss: 0.0329\n",
            "Epoch [8/10], Step [800/938], Loss: 0.0398\n",
            "Accuracy of the network on the 10000 test images: 91.25 %\n",
            "------------------------------\n",
            "Epoch [9/10], Step [200/938], Loss: 0.0180\n",
            "Epoch [9/10], Step [400/938], Loss: 0.0381\n",
            "Epoch [9/10], Step [600/938], Loss: 0.0220\n",
            "Epoch [9/10], Step [800/938], Loss: 0.0645\n",
            "Accuracy of the network on the 10000 test images: 91.00 %\n",
            "------------------------------\n",
            "Epoch [10/10], Step [200/938], Loss: 0.0362\n",
            "Epoch [10/10], Step [400/938], Loss: 0.0655\n",
            "Epoch [10/10], Step [600/938], Loss: 0.0067\n",
            "Epoch [10/10], Step [800/938], Loss: 0.0044\n",
            "Accuracy of the network on the 10000 test images: 91.39 %\n",
            "------------------------------\n",
            "Finished Training!\n"
          ]
        }
      ]
    },
    {
      "cell_type": "markdown",
      "source": [
        "## Visualize results"
      ],
      "metadata": {
        "id": "efcS5uUTI5T5"
      }
    },
    {
      "cell_type": "code",
      "metadata": {
        "colab": {
          "base_uri": "https://localhost:8080/",
          "height": 230
        },
        "id": "8e626c08",
        "outputId": "7cc2f4e1-17b6-4d94-cd4f-33c9f5e52f14"
      },
      "source": [
        "def imshow(img):\n",
        "    img = img / 2 + 0.5\n",
        "    npimg = img.numpy()\n",
        "    plt.imshow(np.transpose(npimg, (1, 2, 0)))\n",
        "    plt.show()\n",
        "\n",
        "dataiter = iter(test_loader)\n",
        "images, labels = next(dataiter)\n",
        "\n",
        "images = images.to(device)\n",
        "\n",
        "# Make predictions\n",
        "model.eval()\n",
        "with torch.no_grad():\n",
        "    outputs = model(images)\n",
        "\n",
        "# Get predicted classes\n",
        "_, predicted = torch.max(outputs.data, 1)\n",
        "\n",
        "# Show images, we also need to move them to the CPU for plotting\n",
        "imshow(torchvision.utils.make_grid(images[:4].cpu()))\n",
        "\n",
        "# Print corresponding labels\n",
        "print('Actual: ', ' '.join(f'{test_dataset.classes[labels[j]]:10s}' for j in range(4)))\n",
        "print('Predicted: ', ' '.join(f'{test_dataset.classes[predicted[j]]:10s}' for j in range(4)))"
      ],
      "execution_count": null,
      "outputs": [
        {
          "output_type": "display_data",
          "data": {
            "text/plain": [
              "<Figure size 640x480 with 1 Axes>"
            ],
            "image/png": "[encoded data removed]"
          },
          "metadata": {}
        },
        {
          "output_type": "stream",
          "name": "stdout",
          "text": [
            "Actual:  Ankle boot Pullover   Trouser    Trouser   \n",
            "Predicted:  Ankle boot Pullover   Trouser    Trouser   \n"
          ]
        }
      ]
    },
    {
      "cell_type": "code",
      "source": [],
      "metadata": {
        "id": "D653RDIaMmxj"
      },
      "execution_count": null,
      "outputs": []
    },
    {
      "cell_type": "markdown",
      "source": [
        "## Links to interesting learning pages\n",
        "https://poloclub.github.io/cnn-explainer/  \n",
        "\n",
        "\n",
        "https://www.pinecone.io/learn/series/image-search/cnn/  \n",
        "\n",
        "\n",
        "https://adamharley.com/nn_vis/cnn/3d.html  "
      ],
      "metadata": {
        "id": "9yZlFr-vMnR0"
      }
    },
    {
      "cell_type": "code",
      "source": [],
      "metadata": {
        "id": "50x_nbgNMmiJ"
      },
      "execution_count": null,
      "outputs": []
    }
  ]
}